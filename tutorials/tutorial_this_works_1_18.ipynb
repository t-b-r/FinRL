{
 "cells": [
  {
   "cell_type": "markdown",
   "metadata": {
    "id": "gXaoZs2lh1hi"
   },
   "source": [
    "# Deep Reinforcement Learning for Stock Trading from Scratch: Multiple Stock Trading\n",
    "\n",
    "Tutorials to use OpenAI DRL to trade multiple stocks in one Jupyter Notebook | Presented at NeurIPS 2020: Deep RL Workshop\n",
    "\n",
    "* This blog is based on our paper: FinRL: A Deep Reinforcement Learning Library for Automated Stock Trading in Quantitative Finance, presented at NeurIPS 2020: Deep RL Workshop.\n",
    "* Check out medium blog for detailed explanations: https://towardsdatascience.com/finrl-for-quantitative-finance-tutorial-for-multiple-stock-trading-7b00763b7530\n",
    "* Please report any issues to our Github: https://github.com/AI4Finance-LLC/FinRL-Library/issues\n",
    "* **Pytorch Version** \n",
    "\n"
   ]
  },
  {
   "cell_type": "markdown",
   "metadata": {
    "id": "lGunVt8oLCVS"
   },
   "source": [
    "# Content"
   ]
  },
  {
   "cell_type": "markdown",
   "metadata": {
    "id": "HOzAKQ-SLGX6"
   },
   "source": [
    "* [1. Problem Definition](#0)\n",
    "* [2. Getting Started - Load Python packages](#1)\n",
    "    * [2.1. Install Packages](#1.1)    \n",
    "    * [2.2. Check Additional Packages](#1.2)\n",
    "    * [2.3. Import Packages](#1.3)\n",
    "    * [2.4. Create Folders](#1.4)\n",
    "* [3. Download Data](#2)\n",
    "* [4. Preprocess Data](#3)        \n",
    "    * [4.1. Technical Indicators](#3.1)\n",
    "    * [4.2. Perform Feature Engineering](#3.2)\n",
    "* [5.Build Environment](#4)  \n",
    "    * [5.1. Training & Trade Data Split](#4.1)\n",
    "    * [5.2. User-defined Environment](#4.2)   \n",
    "    * [5.3. Initialize Environment](#4.3)    \n",
    "* [6.Implement DRL Algorithms](#5)  \n",
    "* [7.Backtesting Performance](#6)  \n",
    "    * [7.1. BackTestStats](#6.1)\n",
    "    * [7.2. BackTestPlot](#6.2)   \n",
    "    * [7.3. Baseline Stats](#6.3)   \n",
    "    * [7.3. Compare to Stock Market Index](#6.4)             "
   ]
  },
  {
   "cell_type": "markdown",
   "metadata": {
    "id": "sApkDlD9LIZv"
   },
   "source": [
    "<a id='0'></a>\n",
    "# Part 1. Problem Definition"
   ]
  },
  {
   "cell_type": "markdown",
   "metadata": {
    "id": "HjLD2TZSLKZ-"
   },
   "source": [
    "This problem is to design an automated trading solution for single stock trading. We model the stock trading process as a Markov Decision Process (MDP). We then formulate our trading goal as a maximization problem.\n",
    "\n",
    "The algorithm is trained using Deep Reinforcement Learning (DRL) algorithms and the components of the reinforcement learning environment are:\n",
    "\n",
    "\n",
    "* Action: The action space describes the allowed actions that the agent interacts with the\n",
    "environment. Normally, a ∈ A includes three actions: a ∈ {−1, 0, 1}, where −1, 0, 1 represent\n",
    "selling, holding, and buying one stock. Also, an action can be carried upon multiple shares. We use\n",
    "an action space {−k, ..., −1, 0, 1, ..., k}, where k denotes the number of shares. For example, \"Buy\n",
    "10 shares of AAPL\" or \"Sell 10 shares of AAPL\" are 10 or −10, respectively\n",
    "\n",
    "* Reward function: r(s, a, s′) is the incentive mechanism for an agent to learn a better action. The change of the portfolio value when action a is taken at state s and arriving at new state s',  i.e., r(s, a, s′) = v′ − v, where v′ and v represent the portfolio\n",
    "values at state s′ and s, respectively\n",
    "\n",
    "* State: The state space describes the observations that the agent receives from the environment. Just as a human trader needs to analyze various information before executing a trade, so\n",
    "our trading agent observes many different features to better learn in an interactive environment.\n",
    "\n",
    "* Environment: Dow 30 consituents\n",
    "\n",
    "\n",
    "The data of the single stock that we will be using for this case study is obtained from Yahoo Finance API. The data contains Open-High-Low-Close price and volume.\n"
   ]
  },
  {
   "cell_type": "markdown",
   "metadata": {
    "id": "Ffsre789LY08"
   },
   "source": [
    "<a id='1'></a>\n",
    "# Part 2. Getting Started- ASSUMES USING DOCKER, see readme for instructions"
   ]
  },
  {
   "cell_type": "markdown",
   "metadata": {
    "id": "Uy5_PTmOh1hj"
   },
   "source": [
    "<a id='1.1'></a>\n",
    "## 2.1. Add FinRL to your path. You can of course install it as a pipy package, but this is for development purposes.\n"
   ]
  },
  {
   "cell_type": "code",
   "execution_count": 1,
   "metadata": {
    "id": "mPT0ipYE28wL"
   },
   "outputs": [],
   "source": [
    "import sys\n",
    "\n",
    "sys.path.append(\"..\")"
   ]
  },
  {
   "cell_type": "code",
   "execution_count": 2,
   "metadata": {
    "id": "6jkbrjod-wpw",
    "outputId": "6d6ed686-7d67-4de6-d178-d56f76f7fabf"
   },
   "outputs": [
    {
     "name": "stdout",
     "output_type": "stream",
     "text": [
      "1.2.5\n"
     ]
    }
   ],
   "source": [
    "import pandas as pd\n",
    "print(pd.__version__)"
   ]
  },
  {
   "cell_type": "markdown",
   "metadata": {
    "id": "osBHhVysOEzi"
   },
   "source": [
    "\n",
    "<a id='1.2'></a>\n",
    "## 2.2. Check if the additional packages needed are present, if not install them. \n",
    "* Yahoo Finance API\n",
    "* pandas\n",
    "* numpy\n",
    "* matplotlib\n",
    "* stockstats\n",
    "* OpenAI gym\n",
    "* stable-baselines\n",
    "* tensorflow\n",
    "* pyfolio"
   ]
  },
  {
   "cell_type": "markdown",
   "metadata": {
    "id": "nGv01K8Sh1hn"
   },
   "source": [
    "<a id='1.3'></a>\n",
    "## 2.3. Import Packages"
   ]
  },
  {
   "cell_type": "code",
   "execution_count": 3,
   "metadata": {
    "colab": {
     "base_uri": "https://localhost:8080/"
    },
    "id": "lPqeTTwoh1hn",
    "outputId": "c437c266-2780-4c50-af8b-6868e7fdaa1f"
   },
   "outputs": [
    {
     "name": "stderr",
     "output_type": "stream",
     "text": [
      "/home/taylor/.local/lib/python3.8/site-packages/pyfolio/pos.py:26: UserWarning: Module \"zipline.assets\" not found; multipliers will not be applied to position notionals.\n",
      "  warnings.warn(\n"
     ]
    }
   ],
   "source": [
    "import pandas as pd\n",
    "import numpy as np\n",
    "import matplotlib\n",
    "import matplotlib.pyplot as plt\n",
    "# matplotlib.use('Agg')\n",
    "import datetime\n",
    "\n",
    "%matplotlib inline\n",
    "from finrl.apps import config\n",
    "from finrl.neo_finrl.preprocessor.yahoodownloader import YahooDownloader\n",
    "from finrl.neo_finrl.preprocessor.preprocessors import FeatureEngineer, data_split\n",
    "from finrl.neo_finrl.env_stock_trading.env_stocktrading import StockTradingEnv\n",
    "from finrl.drl_agents.stablebaselines3.models import DRLAgent\n",
    "from finrl.plot import backtest_stats, backtest_plot, get_daily_return, get_baseline\n",
    "\n",
    "from pprint import pprint\n",
    "\n",
    "import sys\n",
    "sys.path.append(\"../FinRL-Library\")\n",
    "\n",
    "import itertools"
   ]
  },
  {
   "cell_type": "markdown",
   "metadata": {
    "id": "T2owTj985RW4"
   },
   "source": [
    "<a id='1.4'></a>\n",
    "## 2.4. Create Folders"
   ]
  },
  {
   "cell_type": "code",
   "execution_count": 4,
   "metadata": {
    "id": "w9A8CN5R5PuZ"
   },
   "outputs": [],
   "source": [
    "import os\n",
    "if not os.path.exists(\"./\" + config.DATA_SAVE_DIR):\n",
    "    os.makedirs(\"./\" + config.DATA_SAVE_DIR)\n",
    "if not os.path.exists(\"./\" + config.TRAINED_MODEL_DIR):\n",
    "    os.makedirs(\"./\" + config.TRAINED_MODEL_DIR)\n",
    "if not os.path.exists(\"./\" + config.TENSORBOARD_LOG_DIR):\n",
    "    os.makedirs(\"./\" + config.TENSORBOARD_LOG_DIR)\n",
    "if not os.path.exists(\"./\" + config.RESULTS_DIR):\n",
    "    os.makedirs(\"./\" + config.RESULTS_DIR)"
   ]
  },
  {
   "cell_type": "markdown",
   "metadata": {
    "id": "A289rQWMh1hq"
   },
   "source": [
    "<a id='2'></a>\n",
    "# Part 3. Download Data\n",
    "Yahoo Finance is a website that provides stock data, financial news, financial reports, etc. All the data provided by Yahoo Finance is free.\n",
    "* FinRL uses a class **YahooDownloader** to fetch data from Yahoo Finance API\n",
    "* Call Limit: Using the Public API (without authentication), you are limited to 2,000 requests per hour per IP (or up to a total of 48,000 requests a day).\n"
   ]
  },
  {
   "cell_type": "markdown",
   "metadata": {
    "id": "NPeQ7iS-LoMm"
   },
   "source": [
    "\n",
    "\n",
    "-----\n",
    "class YahooDownloader:\n",
    "    Provides methods for retrieving daily stock data from\n",
    "    Yahoo Finance API\n",
    "\n",
    "    Attributes\n",
    "    ----------\n",
    "        start_date : str\n",
    "            start date of the data (modified from config.py)\n",
    "        end_date : str\n",
    "            end date of the data (modified from config.py)\n",
    "        ticker_list : list\n",
    "            a list of stock tickers (modified from config.py)\n",
    "\n",
    "    Methods\n",
    "    -------\n",
    "    fetch_data()\n",
    "        Fetches data from yahoo API\n"
   ]
  },
  {
   "cell_type": "code",
   "execution_count": 5,
   "metadata": {
    "colab": {
     "base_uri": "https://localhost:8080/",
     "height": 35
    },
    "id": "h3XJnvrbLp-C",
    "outputId": "87dea23f-469d-4e9d-de91-0f8a74929de2"
   },
   "outputs": [
    {
     "data": {
      "text/plain": [
       "'2009-01-01'"
      ]
     },
     "execution_count": 5,
     "metadata": {},
     "output_type": "execute_result"
    }
   ],
   "source": [
    "# from config.py start_date is a string\n",
    "config.START_DATE"
   ]
  },
  {
   "cell_type": "code",
   "execution_count": 6,
   "metadata": {
    "colab": {
     "base_uri": "https://localhost:8080/",
     "height": 35
    },
    "id": "FUnY8WEfLq3C",
    "outputId": "c635ae69-a13e-408f-d932-9d386d1d6dcf"
   },
   "outputs": [
    {
     "data": {
      "text/plain": [
       "'2021-10-31'"
      ]
     },
     "execution_count": 6,
     "metadata": {},
     "output_type": "execute_result"
    }
   ],
   "source": [
    "# from config.py end_date is a string\n",
    "config.END_DATE"
   ]
  },
  {
   "cell_type": "code",
   "execution_count": 7,
   "metadata": {
    "colab": {
     "base_uri": "https://localhost:8080/"
    },
    "id": "JzqRRTOX6aFu",
    "outputId": "d3baf63f-948a-49f9-f6f2-b7241971b8ea"
   },
   "outputs": [
    {
     "name": "stdout",
     "output_type": "stream",
     "text": [
      "['AXP', 'AMGN', 'AAPL', 'BA', 'CAT', 'CSCO', 'CVX', 'GS', 'HD', 'HON', 'IBM', 'INTC', 'JNJ', 'KO', 'JPM', 'MCD', 'MMM', 'MRK', 'MSFT', 'NKE', 'PG', 'TRV', 'UNH', 'CRM', 'VZ', 'V', 'WBA', 'WMT', 'DIS', 'DOW']\n"
     ]
    }
   ],
   "source": [
    "print(config.DOW_30_TICKER)"
   ]
  },
  {
   "cell_type": "code",
   "execution_count": 8,
   "metadata": {
    "colab": {
     "base_uri": "https://localhost:8080/"
    },
    "id": "yCKm4om-s9kE",
    "outputId": "932583d8-f98b-4243-c02d-375f7272db1a"
   },
   "outputs": [
    {
     "name": "stdout",
     "output_type": "stream",
     "text": [
      "[*********************100%***********************]  1 of 1 completed\n",
      "[*********************100%***********************]  1 of 1 completed\n",
      "[*********************100%***********************]  1 of 1 completed\n",
      "[*********************100%***********************]  1 of 1 completed\n",
      "[*********************100%***********************]  1 of 1 completed\n",
      "[*********************100%***********************]  1 of 1 completed\n",
      "[*********************100%***********************]  1 of 1 completed\n",
      "[*********************100%***********************]  1 of 1 completed\n",
      "[*********************100%***********************]  1 of 1 completed\n",
      "[*********************100%***********************]  1 of 1 completed\n",
      "[*********************100%***********************]  1 of 1 completed\n",
      "[*********************100%***********************]  1 of 1 completed\n",
      "[*********************100%***********************]  1 of 1 completed\n",
      "[*********************100%***********************]  1 of 1 completed\n",
      "[*********************100%***********************]  1 of 1 completed\n",
      "[*********************100%***********************]  1 of 1 completed\n",
      "[*********************100%***********************]  1 of 1 completed\n",
      "[*********************100%***********************]  1 of 1 completed\n",
      "[*********************100%***********************]  1 of 1 completed\n",
      "[*********************100%***********************]  1 of 1 completed\n",
      "[*********************100%***********************]  1 of 1 completed\n",
      "[*********************100%***********************]  1 of 1 completed\n",
      "[*********************100%***********************]  1 of 1 completed\n",
      "[*********************100%***********************]  1 of 1 completed\n",
      "[*********************100%***********************]  1 of 1 completed\n",
      "[*********************100%***********************]  1 of 1 completed\n",
      "[*********************100%***********************]  1 of 1 completed\n",
      "[*********************100%***********************]  1 of 1 completed\n",
      "[*********************100%***********************]  1 of 1 completed\n",
      "[*********************100%***********************]  1 of 1 completed\n",
      "Shape of DataFrame:  (88061, 8)\n"
     ]
    }
   ],
   "source": [
    "df = YahooDownloader(start_date = '2009-01-01',\n",
    "                     end_date = '2021-01-01',\n",
    "                     ticker_list = config.DOW_30_TICKER).fetch_data()"
   ]
  },
  {
   "cell_type": "markdown",
   "metadata": {
    "id": "uqC6c40Zh1iH"
   },
   "source": [
    "# Part 4: Preprocess Data\n",
    "Data preprocessing is a crucial step for training a high quality machine learning model. We need to check for missing data and do feature engineering in order to convert the data into a model-ready state.\n",
    "* Add technical indicators. In practical trading, various information needs to be taken into account, for example the historical stock prices, current holding shares, technical indicators, etc. In this article, we demonstrate two trend-following technical indicators: MACD and RSI.\n",
    "* Add turbulence index. Risk-aversion reflects whether an investor will choose to preserve the capital. It also influences one's trading strategy when facing different market volatility level. To control the risk in a worst-case scenario, such as financial crisis of 2007–2008, FinRL employs the financial turbulence index that measures extreme asset price fluctuation."
   ]
  },
  {
   "cell_type": "code",
   "execution_count": 9,
   "metadata": {},
   "outputs": [
    {
     "data": {
      "text/html": [
       "<div>\n",
       "<style scoped>\n",
       "    .dataframe tbody tr th:only-of-type {\n",
       "        vertical-align: middle;\n",
       "    }\n",
       "\n",
       "    .dataframe tbody tr th {\n",
       "        vertical-align: top;\n",
       "    }\n",
       "\n",
       "    .dataframe thead th {\n",
       "        text-align: right;\n",
       "    }\n",
       "</style>\n",
       "<table border=\"1\" class=\"dataframe\">\n",
       "  <thead>\n",
       "    <tr style=\"text-align: right;\">\n",
       "      <th></th>\n",
       "      <th>date</th>\n",
       "      <th>open</th>\n",
       "      <th>high</th>\n",
       "      <th>low</th>\n",
       "      <th>close</th>\n",
       "      <th>volume</th>\n",
       "      <th>tic</th>\n",
       "      <th>day</th>\n",
       "    </tr>\n",
       "  </thead>\n",
       "  <tbody>\n",
       "    <tr>\n",
       "      <th>0</th>\n",
       "      <td>2009-01-02</td>\n",
       "      <td>3.067143</td>\n",
       "      <td>3.251429</td>\n",
       "      <td>3.041429</td>\n",
       "      <td>2.778781</td>\n",
       "      <td>746015200</td>\n",
       "      <td>AAPL</td>\n",
       "      <td>4</td>\n",
       "    </tr>\n",
       "    <tr>\n",
       "      <th>1</th>\n",
       "      <td>2009-01-02</td>\n",
       "      <td>58.590000</td>\n",
       "      <td>59.080002</td>\n",
       "      <td>57.750000</td>\n",
       "      <td>45.615871</td>\n",
       "      <td>6547900</td>\n",
       "      <td>AMGN</td>\n",
       "      <td>4</td>\n",
       "    </tr>\n",
       "    <tr>\n",
       "      <th>2</th>\n",
       "      <td>2009-01-02</td>\n",
       "      <td>18.570000</td>\n",
       "      <td>19.520000</td>\n",
       "      <td>18.400000</td>\n",
       "      <td>15.618547</td>\n",
       "      <td>10955700</td>\n",
       "      <td>AXP</td>\n",
       "      <td>4</td>\n",
       "    </tr>\n",
       "    <tr>\n",
       "      <th>3</th>\n",
       "      <td>2009-01-02</td>\n",
       "      <td>42.799999</td>\n",
       "      <td>45.560001</td>\n",
       "      <td>42.779999</td>\n",
       "      <td>33.941101</td>\n",
       "      <td>7010200</td>\n",
       "      <td>BA</td>\n",
       "      <td>4</td>\n",
       "    </tr>\n",
       "    <tr>\n",
       "      <th>4</th>\n",
       "      <td>2009-01-02</td>\n",
       "      <td>44.910000</td>\n",
       "      <td>46.980000</td>\n",
       "      <td>44.709999</td>\n",
       "      <td>32.475784</td>\n",
       "      <td>7117200</td>\n",
       "      <td>CAT</td>\n",
       "      <td>4</td>\n",
       "    </tr>\n",
       "    <tr>\n",
       "      <th>5</th>\n",
       "      <td>2009-01-02</td>\n",
       "      <td>8.025000</td>\n",
       "      <td>8.550000</td>\n",
       "      <td>7.912500</td>\n",
       "      <td>8.505000</td>\n",
       "      <td>4069200</td>\n",
       "      <td>CRM</td>\n",
       "      <td>4</td>\n",
       "    </tr>\n",
       "    <tr>\n",
       "      <th>6</th>\n",
       "      <td>2009-01-02</td>\n",
       "      <td>16.410000</td>\n",
       "      <td>17.000000</td>\n",
       "      <td>16.250000</td>\n",
       "      <td>12.421844</td>\n",
       "      <td>40980600</td>\n",
       "      <td>CSCO</td>\n",
       "      <td>4</td>\n",
       "    </tr>\n",
       "    <tr>\n",
       "      <th>7</th>\n",
       "      <td>2009-01-02</td>\n",
       "      <td>74.230003</td>\n",
       "      <td>77.300003</td>\n",
       "      <td>73.580002</td>\n",
       "      <td>45.650551</td>\n",
       "      <td>13695900</td>\n",
       "      <td>CVX</td>\n",
       "      <td>4</td>\n",
       "    </tr>\n",
       "    <tr>\n",
       "      <th>8</th>\n",
       "      <td>2009-01-02</td>\n",
       "      <td>22.760000</td>\n",
       "      <td>24.030001</td>\n",
       "      <td>22.500000</td>\n",
       "      <td>20.597498</td>\n",
       "      <td>9796600</td>\n",
       "      <td>DIS</td>\n",
       "      <td>4</td>\n",
       "    </tr>\n",
       "    <tr>\n",
       "      <th>9</th>\n",
       "      <td>2009-01-02</td>\n",
       "      <td>84.019997</td>\n",
       "      <td>87.620003</td>\n",
       "      <td>82.190002</td>\n",
       "      <td>71.965530</td>\n",
       "      <td>14088500</td>\n",
       "      <td>GS</td>\n",
       "      <td>4</td>\n",
       "    </tr>\n",
       "    <tr>\n",
       "      <th>10</th>\n",
       "      <td>2009-01-02</td>\n",
       "      <td>23.070000</td>\n",
       "      <td>24.190001</td>\n",
       "      <td>22.959999</td>\n",
       "      <td>17.615517</td>\n",
       "      <td>14902500</td>\n",
       "      <td>HD</td>\n",
       "      <td>4</td>\n",
       "    </tr>\n",
       "    <tr>\n",
       "      <th>11</th>\n",
       "      <td>2009-01-02</td>\n",
       "      <td>31.394459</td>\n",
       "      <td>33.224930</td>\n",
       "      <td>31.003576</td>\n",
       "      <td>24.490929</td>\n",
       "      <td>5360776</td>\n",
       "      <td>HON</td>\n",
       "      <td>4</td>\n",
       "    </tr>\n",
       "    <tr>\n",
       "      <th>12</th>\n",
       "      <td>2009-01-02</td>\n",
       "      <td>80.200768</td>\n",
       "      <td>83.738052</td>\n",
       "      <td>80.200768</td>\n",
       "      <td>55.197151</td>\n",
       "      <td>7905877</td>\n",
       "      <td>IBM</td>\n",
       "      <td>4</td>\n",
       "    </tr>\n",
       "    <tr>\n",
       "      <th>13</th>\n",
       "      <td>2009-01-02</td>\n",
       "      <td>14.690000</td>\n",
       "      <td>15.250000</td>\n",
       "      <td>14.470000</td>\n",
       "      <td>10.261232</td>\n",
       "      <td>52208200</td>\n",
       "      <td>INTC</td>\n",
       "      <td>4</td>\n",
       "    </tr>\n",
       "    <tr>\n",
       "      <th>14</th>\n",
       "      <td>2009-01-02</td>\n",
       "      <td>60.130001</td>\n",
       "      <td>61.000000</td>\n",
       "      <td>59.040001</td>\n",
       "      <td>41.226551</td>\n",
       "      <td>11638900</td>\n",
       "      <td>JNJ</td>\n",
       "      <td>4</td>\n",
       "    </tr>\n",
       "    <tr>\n",
       "      <th>15</th>\n",
       "      <td>2009-01-02</td>\n",
       "      <td>31.190001</td>\n",
       "      <td>31.639999</td>\n",
       "      <td>30.469999</td>\n",
       "      <td>23.071079</td>\n",
       "      <td>32494900</td>\n",
       "      <td>JPM</td>\n",
       "      <td>4</td>\n",
       "    </tr>\n",
       "    <tr>\n",
       "      <th>16</th>\n",
       "      <td>2009-01-02</td>\n",
       "      <td>22.700001</td>\n",
       "      <td>23.000000</td>\n",
       "      <td>22.520000</td>\n",
       "      <td>15.395397</td>\n",
       "      <td>16355800</td>\n",
       "      <td>KO</td>\n",
       "      <td>4</td>\n",
       "    </tr>\n",
       "    <tr>\n",
       "      <th>17</th>\n",
       "      <td>2009-01-02</td>\n",
       "      <td>62.380001</td>\n",
       "      <td>64.129997</td>\n",
       "      <td>62.200001</td>\n",
       "      <td>43.828506</td>\n",
       "      <td>8652700</td>\n",
       "      <td>MCD</td>\n",
       "      <td>4</td>\n",
       "    </tr>\n",
       "    <tr>\n",
       "      <th>18</th>\n",
       "      <td>2009-01-02</td>\n",
       "      <td>57.549999</td>\n",
       "      <td>59.389999</td>\n",
       "      <td>57.520000</td>\n",
       "      <td>41.303761</td>\n",
       "      <td>5313900</td>\n",
       "      <td>MMM</td>\n",
       "      <td>4</td>\n",
       "    </tr>\n",
       "    <tr>\n",
       "      <th>19</th>\n",
       "      <td>2009-01-02</td>\n",
       "      <td>29.064884</td>\n",
       "      <td>29.694656</td>\n",
       "      <td>28.921757</td>\n",
       "      <td>18.699717</td>\n",
       "      <td>12793355</td>\n",
       "      <td>MRK</td>\n",
       "      <td>4</td>\n",
       "    </tr>\n",
       "  </tbody>\n",
       "</table>\n",
       "</div>"
      ],
      "text/plain": [
       "          date       open       high        low      close     volume   tic  \\\n",
       "0   2009-01-02   3.067143   3.251429   3.041429   2.778781  746015200  AAPL   \n",
       "1   2009-01-02  58.590000  59.080002  57.750000  45.615871    6547900  AMGN   \n",
       "2   2009-01-02  18.570000  19.520000  18.400000  15.618547   10955700   AXP   \n",
       "3   2009-01-02  42.799999  45.560001  42.779999  33.941101    7010200    BA   \n",
       "4   2009-01-02  44.910000  46.980000  44.709999  32.475784    7117200   CAT   \n",
       "5   2009-01-02   8.025000   8.550000   7.912500   8.505000    4069200   CRM   \n",
       "6   2009-01-02  16.410000  17.000000  16.250000  12.421844   40980600  CSCO   \n",
       "7   2009-01-02  74.230003  77.300003  73.580002  45.650551   13695900   CVX   \n",
       "8   2009-01-02  22.760000  24.030001  22.500000  20.597498    9796600   DIS   \n",
       "9   2009-01-02  84.019997  87.620003  82.190002  71.965530   14088500    GS   \n",
       "10  2009-01-02  23.070000  24.190001  22.959999  17.615517   14902500    HD   \n",
       "11  2009-01-02  31.394459  33.224930  31.003576  24.490929    5360776   HON   \n",
       "12  2009-01-02  80.200768  83.738052  80.200768  55.197151    7905877   IBM   \n",
       "13  2009-01-02  14.690000  15.250000  14.470000  10.261232   52208200  INTC   \n",
       "14  2009-01-02  60.130001  61.000000  59.040001  41.226551   11638900   JNJ   \n",
       "15  2009-01-02  31.190001  31.639999  30.469999  23.071079   32494900   JPM   \n",
       "16  2009-01-02  22.700001  23.000000  22.520000  15.395397   16355800    KO   \n",
       "17  2009-01-02  62.380001  64.129997  62.200001  43.828506    8652700   MCD   \n",
       "18  2009-01-02  57.549999  59.389999  57.520000  41.303761    5313900   MMM   \n",
       "19  2009-01-02  29.064884  29.694656  28.921757  18.699717   12793355   MRK   \n",
       "\n",
       "    day  \n",
       "0     4  \n",
       "1     4  \n",
       "2     4  \n",
       "3     4  \n",
       "4     4  \n",
       "5     4  \n",
       "6     4  \n",
       "7     4  \n",
       "8     4  \n",
       "9     4  \n",
       "10    4  \n",
       "11    4  \n",
       "12    4  \n",
       "13    4  \n",
       "14    4  \n",
       "15    4  \n",
       "16    4  \n",
       "17    4  \n",
       "18    4  \n",
       "19    4  "
      ]
     },
     "execution_count": 9,
     "metadata": {},
     "output_type": "execute_result"
    }
   ],
   "source": [
    "df.head(20)"
   ]
  },
  {
   "cell_type": "code",
   "execution_count": 10,
   "metadata": {
    "id": "_kmPMUBs-wpz",
    "jupyter": {
     "outputs_hidden": false
    },
    "outputId": "e81c392c-b1b3-4311-c26e-a9418e656196",
    "pycharm": {
     "name": "#%%\n"
    }
   },
   "outputs": [
    {
     "name": "stdout",
     "output_type": "stream",
     "text": [
      "Successfully added technical indicators\n",
      "Successfully added turbulence index\n"
     ]
    }
   ],
   "source": [
    "fe = FeatureEngineer(\n",
    "                    use_technical_indicator=True,\n",
    "                    tech_indicator_list = config.TECHNICAL_INDICATORS_LIST,\n",
    "                    use_turbulence=True,\n",
    "                    user_defined_feature = False)\n",
    "\n",
    "processed = fe.preprocess_data(df)"
   ]
  },
  {
   "cell_type": "code",
   "execution_count": 11,
   "metadata": {
    "id": "kFYzLgOz-wp0",
    "outputId": "5633500c-a8df-4bb7-ff2f-b3d649603bd6"
   },
   "outputs": [
    {
     "data": {
      "text/html": [
       "<div>\n",
       "<style scoped>\n",
       "    .dataframe tbody tr th:only-of-type {\n",
       "        vertical-align: middle;\n",
       "    }\n",
       "\n",
       "    .dataframe tbody tr th {\n",
       "        vertical-align: top;\n",
       "    }\n",
       "\n",
       "    .dataframe thead th {\n",
       "        text-align: right;\n",
       "    }\n",
       "</style>\n",
       "<table border=\"1\" class=\"dataframe\">\n",
       "  <thead>\n",
       "    <tr style=\"text-align: right;\">\n",
       "      <th></th>\n",
       "      <th>date</th>\n",
       "      <th>open</th>\n",
       "      <th>high</th>\n",
       "      <th>low</th>\n",
       "      <th>close</th>\n",
       "      <th>volume</th>\n",
       "      <th>tic</th>\n",
       "      <th>day</th>\n",
       "      <th>macd</th>\n",
       "      <th>boll_ub</th>\n",
       "      <th>boll_lb</th>\n",
       "      <th>rsi_30</th>\n",
       "      <th>cci_30</th>\n",
       "      <th>dx_30</th>\n",
       "      <th>close_30_sma</th>\n",
       "      <th>close_60_sma</th>\n",
       "      <th>turbulence</th>\n",
       "      <th>log_volume</th>\n",
       "      <th>change</th>\n",
       "      <th>daily_variance</th>\n",
       "    </tr>\n",
       "  </thead>\n",
       "  <tbody>\n",
       "    <tr>\n",
       "      <th>0</th>\n",
       "      <td>2009-01-02</td>\n",
       "      <td>3.067143</td>\n",
       "      <td>3.251429</td>\n",
       "      <td>3.041429</td>\n",
       "      <td>2.778781</td>\n",
       "      <td>746015200</td>\n",
       "      <td>AAPL</td>\n",
       "      <td>4</td>\n",
       "      <td>0.0</td>\n",
       "      <td>3.003272</td>\n",
       "      <td>2.671566</td>\n",
       "      <td>100.0</td>\n",
       "      <td>66.666667</td>\n",
       "      <td>100.0</td>\n",
       "      <td>2.778781</td>\n",
       "      <td>2.778781</td>\n",
       "      <td>0.0</td>\n",
       "      <td>21.452269</td>\n",
       "      <td>-0.103773</td>\n",
       "      <td>0.075573</td>\n",
       "    </tr>\n",
       "    <tr>\n",
       "      <th>1</th>\n",
       "      <td>2009-01-02</td>\n",
       "      <td>58.590000</td>\n",
       "      <td>59.080002</td>\n",
       "      <td>57.750000</td>\n",
       "      <td>45.615871</td>\n",
       "      <td>6547900</td>\n",
       "      <td>AMGN</td>\n",
       "      <td>4</td>\n",
       "      <td>0.0</td>\n",
       "      <td>3.003272</td>\n",
       "      <td>2.671566</td>\n",
       "      <td>100.0</td>\n",
       "      <td>66.666667</td>\n",
       "      <td>100.0</td>\n",
       "      <td>45.615871</td>\n",
       "      <td>45.615871</td>\n",
       "      <td>0.0</td>\n",
       "      <td>19.514911</td>\n",
       "      <td>-0.284421</td>\n",
       "      <td>0.029157</td>\n",
       "    </tr>\n",
       "    <tr>\n",
       "      <th>2</th>\n",
       "      <td>2009-01-02</td>\n",
       "      <td>18.570000</td>\n",
       "      <td>19.520000</td>\n",
       "      <td>18.400000</td>\n",
       "      <td>15.618547</td>\n",
       "      <td>10955700</td>\n",
       "      <td>AXP</td>\n",
       "      <td>4</td>\n",
       "      <td>0.0</td>\n",
       "      <td>3.003272</td>\n",
       "      <td>2.671566</td>\n",
       "      <td>100.0</td>\n",
       "      <td>66.666667</td>\n",
       "      <td>100.0</td>\n",
       "      <td>15.618547</td>\n",
       "      <td>15.618547</td>\n",
       "      <td>0.0</td>\n",
       "      <td>18.957830</td>\n",
       "      <td>-0.188971</td>\n",
       "      <td>0.071710</td>\n",
       "    </tr>\n",
       "    <tr>\n",
       "      <th>3</th>\n",
       "      <td>2009-01-02</td>\n",
       "      <td>42.799999</td>\n",
       "      <td>45.560001</td>\n",
       "      <td>42.779999</td>\n",
       "      <td>33.941101</td>\n",
       "      <td>7010200</td>\n",
       "      <td>BA</td>\n",
       "      <td>4</td>\n",
       "      <td>0.0</td>\n",
       "      <td>3.003272</td>\n",
       "      <td>2.671566</td>\n",
       "      <td>100.0</td>\n",
       "      <td>66.666667</td>\n",
       "      <td>100.0</td>\n",
       "      <td>33.941101</td>\n",
       "      <td>33.941101</td>\n",
       "      <td>0.0</td>\n",
       "      <td>19.287503</td>\n",
       "      <td>-0.261008</td>\n",
       "      <td>0.081907</td>\n",
       "    </tr>\n",
       "    <tr>\n",
       "      <th>4</th>\n",
       "      <td>2009-01-02</td>\n",
       "      <td>44.910000</td>\n",
       "      <td>46.980000</td>\n",
       "      <td>44.709999</td>\n",
       "      <td>32.475784</td>\n",
       "      <td>7117200</td>\n",
       "      <td>CAT</td>\n",
       "      <td>4</td>\n",
       "      <td>0.0</td>\n",
       "      <td>3.003272</td>\n",
       "      <td>2.671566</td>\n",
       "      <td>100.0</td>\n",
       "      <td>66.666667</td>\n",
       "      <td>100.0</td>\n",
       "      <td>32.475784</td>\n",
       "      <td>32.475784</td>\n",
       "      <td>0.0</td>\n",
       "      <td>19.258520</td>\n",
       "      <td>-0.382877</td>\n",
       "      <td>0.069898</td>\n",
       "    </tr>\n",
       "  </tbody>\n",
       "</table>\n",
       "</div>"
      ],
      "text/plain": [
       "         date       open       high        low      close     volume   tic  \\\n",
       "0  2009-01-02   3.067143   3.251429   3.041429   2.778781  746015200  AAPL   \n",
       "1  2009-01-02  58.590000  59.080002  57.750000  45.615871    6547900  AMGN   \n",
       "2  2009-01-02  18.570000  19.520000  18.400000  15.618547   10955700   AXP   \n",
       "3  2009-01-02  42.799999  45.560001  42.779999  33.941101    7010200    BA   \n",
       "4  2009-01-02  44.910000  46.980000  44.709999  32.475784    7117200   CAT   \n",
       "\n",
       "   day  macd   boll_ub   boll_lb  rsi_30     cci_30  dx_30  close_30_sma  \\\n",
       "0    4   0.0  3.003272  2.671566   100.0  66.666667  100.0      2.778781   \n",
       "1    4   0.0  3.003272  2.671566   100.0  66.666667  100.0     45.615871   \n",
       "2    4   0.0  3.003272  2.671566   100.0  66.666667  100.0     15.618547   \n",
       "3    4   0.0  3.003272  2.671566   100.0  66.666667  100.0     33.941101   \n",
       "4    4   0.0  3.003272  2.671566   100.0  66.666667  100.0     32.475784   \n",
       "\n",
       "   close_60_sma  turbulence  log_volume    change  daily_variance  \n",
       "0      2.778781         0.0   21.452269 -0.103773        0.075573  \n",
       "1     45.615871         0.0   19.514911 -0.284421        0.029157  \n",
       "2     15.618547         0.0   18.957830 -0.188971        0.071710  \n",
       "3     33.941101         0.0   19.287503 -0.261008        0.081907  \n",
       "4     32.475784         0.0   19.258520 -0.382877        0.069898  "
      ]
     },
     "execution_count": 11,
     "metadata": {},
     "output_type": "execute_result"
    }
   ],
   "source": [
    "processed['log_volume'] = np.log(processed.volume*processed.close)\n",
    "processed['change'] = (processed.close-processed.open)/processed.close\n",
    "processed['daily_variance'] = (processed.high-processed.low)/processed.close\n",
    "processed.head()"
   ]
  },
  {
   "cell_type": "markdown",
   "metadata": {
    "id": "-QsYaY0Dh1iw"
   },
   "source": [
    "<a id='4'></a>\n",
    "# Part 5. Design Environment\n",
    "Considering the stochastic and interactive nature of the automated stock trading tasks, a financial task is modeled as a **Markov Decision Process (MDP)** problem. The training process involves observing stock price change, taking an action and reward's calculation to have the agent adjusting its strategy accordingly. By interacting with the environment, the trading agent will derive a trading strategy with the maximized rewards as time proceeds.\n",
    "\n",
    "Our trading environments, based on OpenAI Gym framework, simulate live stock markets with real market data according to the principle of time-driven simulation.\n",
    "\n",
    "The action space describes the allowed actions that the agent interacts with the environment. Normally, action a includes three actions: {-1, 0, 1}, where -1, 0, 1 represent selling, holding, and buying one share. Also, an action can be carried upon multiple shares. We use an action space {-k,…,-1, 0, 1, …, k}, where k denotes the number of shares to buy and -k denotes the number of shares to sell. For example, \"Buy 10 shares of AAPL\" or \"Sell 10 shares of AAPL\" are 10 or -10, respectively. The continuous action space needs to be normalized to [-1, 1], since the policy is defined on a Gaussian distribution, which needs to be normalized and symmetric."
   ]
  },
  {
   "cell_type": "markdown",
   "metadata": {
    "id": "5TOhcryx44bb"
   },
   "source": [
    "## Training data split: 2009-01-01 to 2018-12-31\n",
    "## Trade data split: 2019-01-01 to 2020-09-30"
   ]
  },
  {
   "cell_type": "code",
   "execution_count": 12,
   "metadata": {
    "colab": {
     "base_uri": "https://localhost:8080/"
    },
    "id": "W0qaVGjLtgbI",
    "outputId": "c98aeb90-84e3-4b83-9671-d679f3fe148f"
   },
   "outputs": [
    {
     "name": "stdout",
     "output_type": "stream",
     "text": [
      "72964\n",
      "14645\n"
     ]
    }
   ],
   "source": [
    "train = data_split(processed, '2009-01-01','2019-01-01')\n",
    "trade = data_split(processed, '2019-01-01','2021-01-01')\n",
    "print(len(train))\n",
    "print(len(trade))"
   ]
  },
  {
   "cell_type": "code",
   "execution_count": 13,
   "metadata": {
    "id": "RTAbShEV-wp1"
   },
   "outputs": [],
   "source": [
    "import numpy as np\n",
    "import pandas as pd\n",
    "from gym.utils import seeding\n",
    "import gym\n",
    "from gym import spaces\n",
    "import matplotlib\n",
    "from copy import deepcopy\n",
    "\n",
    "matplotlib.use(\"Agg\")\n",
    "import matplotlib.pyplot as plt\n",
    "import pickle\n",
    "from stable_baselines3.common.vec_env import DummyVecEnv\n",
    "import numpy as np\n",
    "import pandas as pd\n",
    "from gym.utils import seeding\n",
    "import gym\n",
    "from gym import spaces\n",
    "import matplotlib\n",
    "import random\n",
    "\n",
    "matplotlib.use(\"Agg\")\n",
    "import matplotlib.pyplot as plt\n",
    "import pickle\n",
    "from stable_baselines3.common.vec_env import DummyVecEnv, SubprocVecEnv\n",
    "from stable_baselines3.common import logger\n",
    "import time\n",
    "\n",
    "\n",
    "class StockTradingEnvV2(gym.Env):\n",
    "\n",
    "    \"\"\"\n",
    "    A stock trading environment for OpenAI gym\n",
    "    Parameters:\n",
    "    state space: {start_cash, <owned_shares>, for s in stocks{<stock.values>}, }\n",
    "        df (pandas.DataFrame): Dataframe containing data\n",
    "        transaction_cost (float): cost for buying or selling shares\n",
    "        hmax (int): max number of share purchases allowed per asset\n",
    "        turbulence_threshold (float): Maximum turbulence allowed in market for purchases to occur. If exceeded, positions are liquidated\n",
    "        print_verbosity(int): When iterating (step), how often to print stats about state of env\n",
    "        reward_scaling (float): Scaling value to multiply reward by at each step.\n",
    "        initial_amount: (int, float): Amount of cash initially available\n",
    "        daily_information_columns (list(str)): Columns to use when building state space from the dataframe.\n",
    "        out_of_cash_penalty (int, float): Penalty to apply if the algorithm runs out of cash\n",
    "\n",
    "    action space: <share_dollar_purchases>\n",
    "\n",
    "    TODO:\n",
    "        make cash penalty proportional to total assets\n",
    "\n",
    "\n",
    "    tests:\n",
    "        after reset, static strategy should result in same metrics\n",
    "\n",
    "        buy zero should result in no costs, no assets purchased\n",
    "        given no change in prices, no change in asset values\n",
    "    \"\"\"\n",
    "\n",
    "    metadata = {\"render.modes\": [\"human\"]}\n",
    "\n",
    "    def __init__(\n",
    "        self,\n",
    "        df,\n",
    "        transaction_cost_pct=3e-3,\n",
    "        date_col_name=\"date\",\n",
    "        hmax=10,\n",
    "        turbulence_threshold=None,\n",
    "        print_verbosity=10,\n",
    "        reward_scaling=1e-4,\n",
    "        initial_amount=1e6,\n",
    "        daily_information_cols=[\"open\", \"close\", \"high\", \"low\", \"volume\"],\n",
    "        out_of_cash_penalty=None,\n",
    "        cache_indicator_data=True,\n",
    "        daily_reward=None,\n",
    "        cash_penalty_proportion=0.1,\n",
    "        random_start=True,\n",
    "    ):\n",
    "        self.df = df\n",
    "        self.stock_col = \"tic\"\n",
    "        self.assets = df[self.stock_col].unique()\n",
    "        self.dates = df[date_col_name].sort_values().unique()\n",
    "        self.random_start = random_start\n",
    "\n",
    "        self.df = self.df.set_index(date_col_name)\n",
    "        self.hmax = hmax\n",
    "        self.initial_amount = initial_amount\n",
    "        if out_of_cash_penalty is None:\n",
    "            out_of_cash_penalty = -initial_amount * 0.5\n",
    "        self.out_of_cash_penalty = out_of_cash_penalty\n",
    "        self.print_verbosity = print_verbosity\n",
    "        self.transaction_cost_pct = transaction_cost_pct\n",
    "        self.reward_scaling = reward_scaling\n",
    "        self.daily_information_cols = daily_information_cols\n",
    "        self.state_space = (\n",
    "            1 + len(self.assets) + len(self.assets) * len(self.daily_information_cols)\n",
    "        )\n",
    "        self.action_space = spaces.Box(low=-1, high=1, shape=(len(self.assets),))\n",
    "        self.observation_space = spaces.Box(\n",
    "            low=-np.inf, high=np.inf, shape=(self.state_space,)\n",
    "        )\n",
    "        self.episode = -1  # initialize so we can call reset\n",
    "        self.episode_history = []\n",
    "        self.printed_header = False\n",
    "        self.daily_reward = daily_reward\n",
    "        self.cache_indicator_data = cache_indicator_data\n",
    "        self.cached_data = None\n",
    "        self.cash_penalty_proportion = cash_penalty_proportion\n",
    "        if self.cache_indicator_data:\n",
    "            print(\"caching data\")\n",
    "            self.cached_data = [\n",
    "                self.get_date_vector(i) for i, _ in enumerate(self.dates)\n",
    "            ]\n",
    "            print(\"data cached!\")\n",
    "\n",
    "    def seed(self, seed=None):\n",
    "        if seed is None:\n",
    "            seed = int(round(time.time() * 1000))\n",
    "        random.seed(seed)\n",
    "\n",
    "    @property\n",
    "    def current_step(self):\n",
    "        return self.date_index - self.starting_point\n",
    "\n",
    "    def reset(self):\n",
    "        self.seed()\n",
    "        self.sum_trades = 0\n",
    "        if self.random_start:\n",
    "            starting_point = random.choice(range(int(len(self.dates) * 0.5)))\n",
    "            self.starting_point = starting_point\n",
    "        else:\n",
    "            self.starting_point = 0\n",
    "        self.date_index = self.starting_point\n",
    "        self.episode += 1\n",
    "        self.actions_memory = []\n",
    "        self.transaction_memory = []\n",
    "        self.state_memory = []\n",
    "        self.account_information = {\n",
    "            \"cash\": [],\n",
    "            \"asset_value\": [],\n",
    "            \"total_assets\": [],\n",
    "            \"reward\": [],\n",
    "        }\n",
    "        init_state = np.array(\n",
    "            [self.initial_amount]\n",
    "            + [0] * len(self.assets)\n",
    "            + self.get_date_vector(self.date_index)\n",
    "        )\n",
    "        self.state_memory.append(init_state)\n",
    "        return init_state\n",
    "\n",
    "    def get_date_vector(self, date, cols=None):\n",
    "        if (cols is None) and (self.cached_data is not None):\n",
    "            return self.cached_data[date]\n",
    "        else:\n",
    "            date = self.dates[date]\n",
    "            if cols is None:\n",
    "                cols = self.daily_information_cols\n",
    "            trunc_df = self.df.loc[date]\n",
    "            v = []\n",
    "            for a in self.assets:\n",
    "                subset = trunc_df[trunc_df[self.stock_col] == a]\n",
    "                v += subset.loc[date, cols].tolist()\n",
    "            assert len(v) == len(self.assets) * len(cols)\n",
    "            return v\n",
    "\n",
    "    def return_terminal(self, reason=\"Last Date\", reward=0):\n",
    "\n",
    "        state = self.state_memory[-1]\n",
    "        self.log_step(reason=reason, terminal_reward=reward)\n",
    "        reward = reward * self.reward_scaling\n",
    "        # Add outputs to logger interface\n",
    "        reward_pct = self.account_information[\"total_assets\"][-1] / self.initial_amount\n",
    "        logger.record(\"environment/total_reward_pct\", (reward_pct - 1) * 100)\n",
    "        logger.record(\n",
    "            \"environment/daily_trades\",\n",
    "            self.sum_trades / (self.current_step) / len(self.assets),\n",
    "        )\n",
    "        logger.record(\"environment/completed_steps\", self.current_step)\n",
    "        logger.record(\n",
    "            \"environment/sum_rewards\", np.sum(self.account_information[\"reward\"])\n",
    "        )\n",
    "        logger.record(\n",
    "            \"environment/cash_proportion\",\n",
    "            self.account_information[\"cash\"][-1]\n",
    "            / self.account_information[\"total_assets\"][-1],\n",
    "        )\n",
    "        return state, reward, True, {}\n",
    "\n",
    "    def log_step(self, reason, terminal_reward=None):\n",
    "        if terminal_reward is None:\n",
    "            terminal_reward = self.account_information[\"reward\"][-1]\n",
    "        cash_pct = (\n",
    "            self.account_information[\"cash\"][-1]\n",
    "            / self.account_information[\"total_assets\"][-1]\n",
    "        )\n",
    "        rec = [\n",
    "            self.episode,\n",
    "            self.date_index - self.starting_point,\n",
    "            reason,\n",
    "            f\"${int(self.account_information['total_assets'][-1])}\",\n",
    "            f\"{terminal_reward*100:0.5f}%\",\n",
    "            f\"{cash_pct*100:0.2f}%\",\n",
    "        ]\n",
    "\n",
    "        self.episode_history.append(rec)\n",
    "        print(self.template.format(*rec))\n",
    "\n",
    "    def log_header(self):\n",
    "        self.template = \"{0:4}|{1:4}|{2:15}|{3:10}|{4:10}|{5:10}\"  # column widths: 8, 10, 15, 7, 10\n",
    "        print(\n",
    "            self.template.format(\n",
    "                \"EPISODE\",\n",
    "                \"STEPS\",\n",
    "                \"TERMINAL_REASON\",\n",
    "                \"TOT_ASSETS\",\n",
    "                \"TERMINAL_REWARD_unsc\",\n",
    "                \"CASH_PCT\",\n",
    "            )\n",
    "        )\n",
    "        self.printed_header = True\n",
    "        \n",
    "    def get_reward(self):\n",
    "        if self.current_step==0:\n",
    "            return 0\n",
    "        else:\n",
    "            assets = self.account_information['total_assets'][-1]\n",
    "            cash = self.account_information['cash'][-1]\n",
    "            cash_penalty = max(0, (assets*self.cash_penalty_proportion-cash))\n",
    "            assets -= cash_penalty\n",
    "            reward = (assets/self.initial_amount)-1\n",
    "            reward/=self.current_step\n",
    "            return reward\n",
    "\n",
    "    def step(self, actions):\n",
    "        # let's just log what we're doing in terms of max actions at each step.\n",
    "        self.sum_trades += np.sum(np.abs(actions))\n",
    "\n",
    "        # print header only first time\n",
    "        if self.printed_header is False:\n",
    "            self.log_header()\n",
    "\n",
    "        # print if it's time.\n",
    "        if (self.current_step + 1) % self.print_verbosity == 0:\n",
    "            self.log_step(reason=\"update\")\n",
    "\n",
    "        # if we're at the end\n",
    "        if self.date_index == len(self.dates) - 1:\n",
    "            # if we hit the end, set reward to total gains (or losses)\n",
    "            return self.return_terminal(reward=self.get_reward())\n",
    "        else:\n",
    "            # compute value of cash + assets\n",
    "            begin_cash = self.state_memory[-1][0]\n",
    "            holdings = self.state_memory[-1][1 : len(self.assets) + 1]\n",
    "            assert min(holdings) >= 0\n",
    "            closings = np.array(self.get_date_vector(self.date_index, cols=[\"close\"]))\n",
    "            asset_value = np.dot(holdings, closings)\n",
    "\n",
    "            # reward is (cash + assets) - (cash_last_step + assets_last_step)\n",
    "            reward = self.get_reward()\n",
    "\n",
    "            # log the values of cash, assets, and total assets\n",
    "            self.account_information[\"cash\"].append(begin_cash)\n",
    "            self.account_information[\"asset_value\"].append(asset_value)\n",
    "            self.account_information[\"total_assets\"].append(begin_cash + asset_value)\n",
    "            self.account_information[\"reward\"].append(reward)\n",
    "\n",
    "            # multiply action values by our scalar multiplier and save\n",
    "            actions = actions * self.hmax\n",
    "            self.actions_memory.append(actions)\n",
    "\n",
    "            # scale cash purchases to asset # changes\n",
    "            actions = actions / closings\n",
    "            self.transaction_memory.append(actions)\n",
    "\n",
    "            # clip actions so we can't sell more assets than we hold\n",
    "            actions = np.maximum(actions, -np.array(holdings))\n",
    "\n",
    "            # compute our proceeds from sales, and add to cash\n",
    "            sells = -np.clip(actions, -np.inf, 0)\n",
    "            proceeds = np.dot(sells, closings)\n",
    "            costs = proceeds * self.transaction_cost_pct\n",
    "            coh = begin_cash + proceeds\n",
    "\n",
    "            # compute the cost of our buys\n",
    "            buys = np.clip(actions, 0, np.inf)\n",
    "            spend = np.dot(buys, closings)\n",
    "            costs += spend * self.transaction_cost_pct\n",
    "\n",
    "            # if we run out of cash, end the cycle and penalize\n",
    "            if (spend + costs) > coh:\n",
    "                return self.return_terminal(\n",
    "                    reason=\"CASH SHORTAGE\",\n",
    "                    reward=self.get_reward()\n",
    "                )\n",
    "\n",
    "            # verify we didn't do anything impossible here\n",
    "            assert (spend + costs) <= coh\n",
    "\n",
    "            # update our holdings\n",
    "            coh = coh - spend - costs\n",
    "            holdings_updated = holdings + actions\n",
    "            self.date_index += 1\n",
    "            state = (\n",
    "                [coh] + list(holdings_updated) + self.get_date_vector(self.date_index)\n",
    "            )\n",
    "            self.state_memory.append(state)\n",
    "            reward = reward * self.reward_scaling\n",
    "            return state, reward, False, {}\n",
    "\n",
    "    def get_sb_env(self):\n",
    "        def get_self():\n",
    "            return deepcopy(self)\n",
    "\n",
    "        e = DummyVecEnv([get_self])\n",
    "        obs = e.reset()\n",
    "        return e, obs\n",
    "\n",
    "    def get_multiproc_env(self, n=10):\n",
    "        def get_self():\n",
    "            return deepcopy(self)\n",
    "\n",
    "        e = SubprocVecEnv([get_self for _ in range(n)], start_method=\"fork\")\n",
    "        obs = e.reset()\n",
    "        return e, obs\n",
    "\n",
    "    def save_asset_memory(self):\n",
    "        if self.current_step == 0:\n",
    "            return None\n",
    "        else:\n",
    "            self.account_information[\"date\"] = self.dates[\n",
    "                -len(self.account_information[\"cash\"]) :\n",
    "            ]\n",
    "            return pd.DataFrame(self.account_information)\n",
    "\n",
    "    def save_action_memory(self):\n",
    "        if self.current_step == 0:\n",
    "            return None\n",
    "        else:\n",
    "            return pd.DataFrame(\n",
    "                {\n",
    "                    \"date\": self.dates[-len(self.account_information[\"cash\"]) :],\n",
    "                    \"actions\": self.actions_memory,\n",
    "                    \"transactions\": self.transaction_memory,\n",
    "                }\n",
    "            )\n"
   ]
  },
  {
   "cell_type": "code",
   "execution_count": 14,
   "metadata": {
    "id": "n-bMsJ9I-wp2",
    "outputId": "e87f4cb4-3fe7-42f7-8ed3-199187a0ad5a"
   },
   "outputs": [
    {
     "name": "stdout",
     "output_type": "stream",
     "text": [
      "\n",
      "    A stock trading environment for OpenAI gym\n",
      "    Parameters:\n",
      "    state space: {start_cash, <owned_shares>, for s in stocks{<stock.values>}, }\n",
      "        df (pandas.DataFrame): Dataframe containing data\n",
      "        transaction_cost (float): cost for buying or selling shares\n",
      "        hmax (int): max number of share purchases allowed per asset\n",
      "        turbulence_threshold (float): Maximum turbulence allowed in market for purchases to occur. If exceeded, positions are liquidated\n",
      "        print_verbosity(int): When iterating (step), how often to print stats about state of env\n",
      "        reward_scaling (float): Scaling value to multiply reward by at each step.\n",
      "        initial_amount: (int, float): Amount of cash initially available\n",
      "        daily_information_columns (list(str)): Columns to use when building state space from the dataframe.\n",
      "        out_of_cash_penalty (int, float): Penalty to apply if the algorithm runs out of cash\n",
      "\n",
      "    action space: <share_dollar_purchases>\n",
      "\n",
      "    TODO:\n",
      "        make cash penalty proportional to total assets\n",
      "\n",
      "\n",
      "    tests:\n",
      "        after reset, static strategy should result in same metrics\n",
      "\n",
      "        buy zero should result in no costs, no assets purchased\n",
      "        given no change in prices, no change in asset values\n",
      "    \n"
     ]
    }
   ],
   "source": [
    "print(StockTradingEnvV2.__doc__)"
   ]
  },
  {
   "cell_type": "markdown",
   "metadata": {
    "id": "Q2zqII8rMIqn",
    "outputId": "8a2c943b-1be4-4b8d-b64f-666e0852b7e6"
   },
   "source": [
    "#### state space\n",
    "The state space of the observation is as follows \n",
    "\n",
    "`start_cash, <owned_shares_of_n_assets>, <<indicator_i_for_asset_j> for j in assets>`\n",
    "\n",
    "indicators are any daily measurement you can achieve. Common ones are 'volume', 'open' 'close' 'high', 'low'.\n",
    "However, you can add these as needed, \n",
    "The feature engineer adds indicators, and you can add your own as well. \n"
   ]
  },
  {
   "cell_type": "code",
   "execution_count": 15,
   "metadata": {
    "id": "oZF9k52r-wp2",
    "outputId": "d8c0311e-72c1-4bd9-bd0d-972b8d6005f5"
   },
   "outputs": [
    {
     "data": {
      "text/html": [
       "<div>\n",
       "<style scoped>\n",
       "    .dataframe tbody tr th:only-of-type {\n",
       "        vertical-align: middle;\n",
       "    }\n",
       "\n",
       "    .dataframe tbody tr th {\n",
       "        vertical-align: top;\n",
       "    }\n",
       "\n",
       "    .dataframe thead th {\n",
       "        text-align: right;\n",
       "    }\n",
       "</style>\n",
       "<table border=\"1\" class=\"dataframe\">\n",
       "  <thead>\n",
       "    <tr style=\"text-align: right;\">\n",
       "      <th></th>\n",
       "      <th>date</th>\n",
       "      <th>open</th>\n",
       "      <th>high</th>\n",
       "      <th>low</th>\n",
       "      <th>close</th>\n",
       "      <th>volume</th>\n",
       "      <th>tic</th>\n",
       "      <th>day</th>\n",
       "      <th>macd</th>\n",
       "      <th>boll_ub</th>\n",
       "      <th>boll_lb</th>\n",
       "      <th>rsi_30</th>\n",
       "      <th>cci_30</th>\n",
       "      <th>dx_30</th>\n",
       "      <th>close_30_sma</th>\n",
       "      <th>close_60_sma</th>\n",
       "      <th>turbulence</th>\n",
       "      <th>log_volume</th>\n",
       "      <th>change</th>\n",
       "      <th>daily_variance</th>\n",
       "    </tr>\n",
       "  </thead>\n",
       "  <tbody>\n",
       "    <tr>\n",
       "      <th>0</th>\n",
       "      <td>2009-01-02</td>\n",
       "      <td>3.067143</td>\n",
       "      <td>3.251429</td>\n",
       "      <td>3.041429</td>\n",
       "      <td>2.778781</td>\n",
       "      <td>746015200</td>\n",
       "      <td>AAPL</td>\n",
       "      <td>4</td>\n",
       "      <td>0.0</td>\n",
       "      <td>3.003272</td>\n",
       "      <td>2.671566</td>\n",
       "      <td>100.0</td>\n",
       "      <td>66.666667</td>\n",
       "      <td>100.0</td>\n",
       "      <td>2.778781</td>\n",
       "      <td>2.778781</td>\n",
       "      <td>0.0</td>\n",
       "      <td>21.452269</td>\n",
       "      <td>-0.103773</td>\n",
       "      <td>0.075573</td>\n",
       "    </tr>\n",
       "    <tr>\n",
       "      <th>1</th>\n",
       "      <td>2009-01-02</td>\n",
       "      <td>58.590000</td>\n",
       "      <td>59.080002</td>\n",
       "      <td>57.750000</td>\n",
       "      <td>45.615871</td>\n",
       "      <td>6547900</td>\n",
       "      <td>AMGN</td>\n",
       "      <td>4</td>\n",
       "      <td>0.0</td>\n",
       "      <td>3.003272</td>\n",
       "      <td>2.671566</td>\n",
       "      <td>100.0</td>\n",
       "      <td>66.666667</td>\n",
       "      <td>100.0</td>\n",
       "      <td>45.615871</td>\n",
       "      <td>45.615871</td>\n",
       "      <td>0.0</td>\n",
       "      <td>19.514911</td>\n",
       "      <td>-0.284421</td>\n",
       "      <td>0.029157</td>\n",
       "    </tr>\n",
       "    <tr>\n",
       "      <th>2</th>\n",
       "      <td>2009-01-02</td>\n",
       "      <td>18.570000</td>\n",
       "      <td>19.520000</td>\n",
       "      <td>18.400000</td>\n",
       "      <td>15.618547</td>\n",
       "      <td>10955700</td>\n",
       "      <td>AXP</td>\n",
       "      <td>4</td>\n",
       "      <td>0.0</td>\n",
       "      <td>3.003272</td>\n",
       "      <td>2.671566</td>\n",
       "      <td>100.0</td>\n",
       "      <td>66.666667</td>\n",
       "      <td>100.0</td>\n",
       "      <td>15.618547</td>\n",
       "      <td>15.618547</td>\n",
       "      <td>0.0</td>\n",
       "      <td>18.957830</td>\n",
       "      <td>-0.188971</td>\n",
       "      <td>0.071710</td>\n",
       "    </tr>\n",
       "    <tr>\n",
       "      <th>3</th>\n",
       "      <td>2009-01-02</td>\n",
       "      <td>42.799999</td>\n",
       "      <td>45.560001</td>\n",
       "      <td>42.779999</td>\n",
       "      <td>33.941101</td>\n",
       "      <td>7010200</td>\n",
       "      <td>BA</td>\n",
       "      <td>4</td>\n",
       "      <td>0.0</td>\n",
       "      <td>3.003272</td>\n",
       "      <td>2.671566</td>\n",
       "      <td>100.0</td>\n",
       "      <td>66.666667</td>\n",
       "      <td>100.0</td>\n",
       "      <td>33.941101</td>\n",
       "      <td>33.941101</td>\n",
       "      <td>0.0</td>\n",
       "      <td>19.287503</td>\n",
       "      <td>-0.261008</td>\n",
       "      <td>0.081907</td>\n",
       "    </tr>\n",
       "    <tr>\n",
       "      <th>4</th>\n",
       "      <td>2009-01-02</td>\n",
       "      <td>44.910000</td>\n",
       "      <td>46.980000</td>\n",
       "      <td>44.709999</td>\n",
       "      <td>32.475784</td>\n",
       "      <td>7117200</td>\n",
       "      <td>CAT</td>\n",
       "      <td>4</td>\n",
       "      <td>0.0</td>\n",
       "      <td>3.003272</td>\n",
       "      <td>2.671566</td>\n",
       "      <td>100.0</td>\n",
       "      <td>66.666667</td>\n",
       "      <td>100.0</td>\n",
       "      <td>32.475784</td>\n",
       "      <td>32.475784</td>\n",
       "      <td>0.0</td>\n",
       "      <td>19.258520</td>\n",
       "      <td>-0.382877</td>\n",
       "      <td>0.069898</td>\n",
       "    </tr>\n",
       "  </tbody>\n",
       "</table>\n",
       "</div>"
      ],
      "text/plain": [
       "         date       open       high        low      close     volume   tic  \\\n",
       "0  2009-01-02   3.067143   3.251429   3.041429   2.778781  746015200  AAPL   \n",
       "1  2009-01-02  58.590000  59.080002  57.750000  45.615871    6547900  AMGN   \n",
       "2  2009-01-02  18.570000  19.520000  18.400000  15.618547   10955700   AXP   \n",
       "3  2009-01-02  42.799999  45.560001  42.779999  33.941101    7010200    BA   \n",
       "4  2009-01-02  44.910000  46.980000  44.709999  32.475784    7117200   CAT   \n",
       "\n",
       "   day  macd   boll_ub   boll_lb  rsi_30     cci_30  dx_30  close_30_sma  \\\n",
       "0    4   0.0  3.003272  2.671566   100.0  66.666667  100.0      2.778781   \n",
       "1    4   0.0  3.003272  2.671566   100.0  66.666667  100.0     45.615871   \n",
       "2    4   0.0  3.003272  2.671566   100.0  66.666667  100.0     15.618547   \n",
       "3    4   0.0  3.003272  2.671566   100.0  66.666667  100.0     33.941101   \n",
       "4    4   0.0  3.003272  2.671566   100.0  66.666667  100.0     32.475784   \n",
       "\n",
       "   close_60_sma  turbulence  log_volume    change  daily_variance  \n",
       "0      2.778781         0.0   21.452269 -0.103773        0.075573  \n",
       "1     45.615871         0.0   19.514911 -0.284421        0.029157  \n",
       "2     15.618547         0.0   18.957830 -0.188971        0.071710  \n",
       "3     33.941101         0.0   19.287503 -0.261008        0.081907  \n",
       "4     32.475784         0.0   19.258520 -0.382877        0.069898  "
      ]
     },
     "execution_count": 15,
     "metadata": {},
     "output_type": "execute_result"
    }
   ],
   "source": [
    "processed.head()"
   ]
  },
  {
   "cell_type": "code",
   "execution_count": 16,
   "metadata": {
    "id": "AWyp84Ltto19",
    "outputId": "e03804f6-c536-475d-f246-69f80e5f26c8"
   },
   "outputs": [
    {
     "name": "stdout",
     "output_type": "stream",
     "text": [
      "caching data\n",
      "data cached!\n",
      "caching data\n",
      "data cached!\n"
     ]
    }
   ],
   "source": [
    "information_cols = ['daily_variance', 'change', 'log_volume', 'close','day', \n",
    "                    'macd', 'rsi_30', 'cci_30', 'dx_30', 'turbulence']\n",
    "\n",
    "e_train_gym = StockTradingEnvV2(df = train,initial_amount = 1e6,hmax = 5000, \n",
    "                                out_of_cash_penalty = 0, \n",
    "                                cache_indicator_data=True,\n",
    "                                cash_penalty_proportion=0.2, \n",
    "                                reward_scaling=1,\n",
    "                                daily_information_cols = information_cols, \n",
    "                                print_verbosity = 500, random_start = True)\n",
    "\n",
    "\n",
    "trade = data_split(processed, '2019-01-01','2021-01-01')\n",
    "\n",
    "\n",
    "e_trade_gym = StockTradingEnvV2(df = trade,initial_amount = 1e6,hmax = 5000, \n",
    "                                out_of_cash_penalty = 0, \n",
    "                                cash_penalty_proportion=0.2,\n",
    "                                reward_scaling = 1, \n",
    "                                cache_indicator_data=True,\n",
    "                                daily_information_cols = information_cols, \n",
    "                                print_verbosity = 500, random_start = False)\n",
    "\n"
   ]
  },
  {
   "cell_type": "markdown",
   "metadata": {
    "id": "64EoqOrQjiVf"
   },
   "source": [
    "## Environment for Training\n",
    "There are two available environments. The multiprocessing and the single processing env. \n",
    "Some models won't work with multiprocessing. \n",
    "\n",
    "```python\n",
    "# single processing\n",
    "env_train, _ = e_train_gym.get_sb_env()\n",
    "\n",
    "\n",
    "#multiprocessing\n",
    "env_train, _ = e_train_gym.get_multiproc_env(n = <n_cores>)\n",
    "```\n"
   ]
  },
  {
   "cell_type": "code",
   "execution_count": 17,
   "metadata": {
    "colab": {
     "base_uri": "https://localhost:8080/"
    },
    "id": "xwSvvPjutpqS",
    "jupyter": {
     "outputs_hidden": true
    },
    "outputId": "406e5ec3-28ba-4a72-9b22-0d031f7bf9a6"
   },
   "outputs": [
    {
     "name": "stdout",
     "output_type": "stream",
     "text": [
      "using 24 cores\n",
      "EPISODE|STEPS|TERMINAL_REASON|TOT_ASSETS|TERMINAL_REWARD_unsc|CASH_PCT  EPISODE|STEPS|TERMINAL_REASON|TOT_ASSETS|TERMINAL_REWARD_unsc|CASH_PCT  EPISODE|STEPS|TERMINAL_REASON|TOT_ASSETS|TERMINAL_REWARD_unsc|CASH_PCT  EPISODE|STEPS|TERMINAL_REASON|TOT_ASSETS|TERMINAL_REWARD_unsc|CASH_PCT  EPISODE|STEPS|TERMINAL_REASON|TOT_ASSETS|TERMINAL_REWARD_unsc|CASH_PCT  EPISODE|STEPS|TERMINAL_REASON|TOT_ASSETS|TERMINAL_REWARD_unsc|CASH_PCT  EPISODE|STEPS|TERMINAL_REASON|TOT_ASSETS|TERMINAL_REWARD_unsc|CASH_PCT  EPISODE|STEPS|TERMINAL_REASON|TOT_ASSETS|TERMINAL_REWARD_unsc|CASH_PCT  EPISODE|STEPS|TERMINAL_REASON|TOT_ASSETS|TERMINAL_REWARD_unsc|CASH_PCT  EPISODE|STEPS|TERMINAL_REASON|TOT_ASSETS|TERMINAL_REWARD_unsc|CASH_PCT  EPISODE|STEPS|TERMINAL_REASON|TOT_ASSETS|TERMINAL_REWARD_unsc|CASH_PCT  EPISODE|STEPS|TERMINAL_REASON|TOT_ASSETS|TERMINAL_REWARD_unsc|CASH_PCT  EPISODE|STEPS|TERMINAL_REASON|TOT_ASSETS|TERMINAL_REWARD_unsc|CASH_PCT  EPISODE|STEPS|TERMINAL_REASON|TOT_ASSETS|TERMINAL_REWARD_unsc|CASH_PCT  EPISODE|STEPS|TERMINAL_REASON|TOT_ASSETS|TERMINAL_REWARD_unsc|CASH_PCT  EPISODE|STEPS|TERMINAL_REASON|TOT_ASSETS|TERMINAL_REWARD_unsc|CASH_PCT  EPISODE|STEPS|TERMINAL_REASON|TOT_ASSETS|TERMINAL_REWARD_unsc|CASH_PCT  EPISODE|STEPS|TERMINAL_REASON|TOT_ASSETS|TERMINAL_REWARD_unsc|CASH_PCT  EPISODE|STEPS|TERMINAL_REASON|TOT_ASSETS|TERMINAL_REWARD_unsc|CASH_PCT  EPISODE|STEPS|TERMINAL_REASON|TOT_ASSETS|TERMINAL_REWARD_unsc|CASH_PCT  \n",
      "\n",
      "EPISODE|STEPS|TERMINAL_REASON|TOT_ASSETS|TERMINAL_REWARD_unsc|CASH_PCT  EPISODE|STEPS|TERMINAL_REASON|TOT_ASSETS|TERMINAL_REWARD_unsc|CASH_PCT  EPISODE|STEPS|TERMINAL_REASON|TOT_ASSETS|TERMINAL_REWARD_unsc|CASH_PCT  EPISODE|STEPS|TERMINAL_REASON|TOT_ASSETS|TERMINAL_REWARD_unsc|CASH_PCT  \n",
      "\n",
      "\n",
      "\n",
      "\n",
      "\n",
      "\n",
      "\n",
      "\n",
      "\n",
      "\n",
      "\n",
      "\n",
      "\n",
      "\n",
      "\n",
      "\n",
      "\n",
      "\n",
      "\n",
      "\n",
      "\n",
      "   1|  93|CASH SHORTAGE  |$1089981  |-0.13016% |0.64%     \n"
     ]
    },
    {
     "name": "stderr",
     "output_type": "stream",
     "text": [
      "Process ForkProcess-21:\n",
      "Traceback (most recent call last):\n",
      "  File \"/usr/lib/python3.8/multiprocessing/process.py\", line 315, in _bootstrap\n",
      "    self.run()\n",
      "  File \"/usr/lib/python3.8/multiprocessing/process.py\", line 108, in run\n",
      "    self._target(*self._args, **self._kwargs)\n",
      "  File \"/home/taylor/.local/lib/python3.8/site-packages/stable_baselines3/common/vec_env/subproc_vec_env.py\", line 29, in _worker\n",
      "    observation, reward, done, info = env.step(data)\n",
      "  File \"/tmp/ipykernel_121/1611894816.py\", line 290, in step\n",
      "    return self.return_terminal(\n",
      "  File \"/tmp/ipykernel_121/1611894816.py\", line 172, in return_terminal\n",
      "    logger.record(\"environment/total_reward_pct\", (reward_pct - 1) * 100)\n",
      "AttributeError: module 'stable_baselines3.common.logger' has no attribute 'record'\n"
     ]
    }
   ],
   "source": [
    "# for this example, let's do multiprocessing with n_cores-2\n",
    "\n",
    "import multiprocessing\n",
    "\n",
    "n_cores = multiprocessing.cpu_count() - 2\n",
    "n_cores = 24\n",
    "print(f\"using {n_cores} cores\")\n",
    "\n",
    "#this is our training env. It allows multiprocessing\n",
    "env_train, _ = e_train_gym.get_multiproc_env(n = n_cores)\n",
    "# env_train, _ = e_train_gym.get_sb_env()\n",
    "\n",
    "\n",
    "#this is our observation environment. It allows full diagnostics\n",
    "env_trade, _ = e_trade_gym.get_sb_env()\n"
   ]
  },
  {
   "cell_type": "markdown",
   "metadata": {
    "id": "HMNR5nHjh1iz"
   },
   "source": [
    "<a id='5'></a>\n",
    "# Part 6: Implement DRL Algorithms\n",
    "* The implementation of the DRL algorithms are based on **OpenAI Baselines** and **Stable Baselines**. Stable Baselines is a fork of OpenAI Baselines, with a major structural refactoring, and code cleanups.\n",
    "* FinRL library includes fine-tuned standard DRL algorithms, such as DQN, DDPG,\n",
    "Multi-Agent DDPG, PPO, SAC, A2C and TD3. We also allow users to\n",
    "design their own DRL algorithms by adapting these DRL algorithms."
   ]
  },
  {
   "cell_type": "code",
   "execution_count": 18,
   "metadata": {
    "id": "364PsqckttcQ"
   },
   "outputs": [],
   "source": [
    "agent = DRLAgent(env = env_train)"
   ]
  },
  {
   "cell_type": "markdown",
   "metadata": {
    "id": "uijiWgkuh1jB"
   },
   "source": [
    "### Model PPO\n"
   ]
  },
  {
   "cell_type": "code",
   "execution_count": 19,
   "metadata": {
    "id": "g9fVobNw-wp3",
    "outputId": "e405c288-8eba-40d3-c0b4-57cda720a038"
   },
   "outputs": [
    {
     "name": "stdout",
     "output_type": "stream",
     "text": [
      "{'n_steps': 256, 'ent_coef': 0.01, 'learning_rate': 9e-05, 'batch_size': 1024, 'gamma': 0.99}\n"
     ]
    }
   ],
   "source": [
    "# from torch.nn import Softsign, ReLU\n",
    "ppo_params ={'n_steps': 256, \n",
    "             'ent_coef': 0.01, \n",
    "             'learning_rate': 0.00009, \n",
    "             'batch_size': 1024, \n",
    "            'gamma': 0.99}\n",
    "\n",
    "policy_kwargs = {\n",
    "#     \"activation_fn\": ReLU,\n",
    "    \"net_arch\": [1024, 1024,1024, 1024,  1024], \n",
    "#     \"squash_output\": True\n",
    "}\n",
    "\n",
    "model = agent.get_model(\"ppo\",  \n",
    "                        model_kwargs = ppo_params, \n",
    "                        policy_kwargs = policy_kwargs, verbose = 0)\n",
    "\n",
    "# model = model.load(\"scaling_reward.model\", env = env_train)"
   ]
  },
  {
   "cell_type": "code",
   "execution_count": null,
   "metadata": {
    "id": "DqP8j_gx-wp3",
    "jupyter": {
     "outputs_hidden": true
    },
    "outputId": "1bdd1281-7f40-4f49-8b23-915b546af38f"
   },
   "outputs": [
    {
     "name": "stderr",
     "output_type": "stream",
     "text": [
      "2021-11-23 21:35:48.548352: W tensorflow/stream_executor/platform/default/dso_loader.cc:64] Could not load dynamic library 'libcudart.so.11.0'; dlerror: libcudart.so.11.0: cannot open shared object file: No such file or directory; LD_LIBRARY_PATH: /home/taylor/.local/lib/python3.8/site-packages/cv2/../../lib64:\n",
      "2021-11-23 21:35:48.548394: I tensorflow/stream_executor/cuda/cudart_stub.cc:29] Ignore above cudart dlerror if you do not have a GPU set up on your machine.\n",
      "/home/taylor/.local/lib/python3.8/site-packages/stable_baselines3/common/callbacks.py:337: UserWarning: Training and eval env are not of the same type<stable_baselines3.common.vec_env.subproc_vec_env.SubprocVecEnv object at 0x7f30a5ec7f70> != <stable_baselines3.common.vec_env.dummy_vec_env.DummyVecEnv object at 0x7f30a5ec7c70>\n",
      "  warnings.warn(\"Training and eval env are not of the same type\" f\"{self.training_env} != {self.eval_env}\")\n"
     ]
    }
   ],
   "source": [
    "model.learn(total_timesteps = 5000000, \n",
    "            eval_env = env_trade, \n",
    "            eval_freq = 250,\n",
    "            log_interval = 1, \n",
    "            tb_log_name = '1_18_lastrun',\n",
    "            n_eval_episodes = 1)"
   ]
  },
  {
   "cell_type": "code",
   "execution_count": null,
   "metadata": {
    "id": "x3gJfj1p-wp4"
   },
   "outputs": [],
   "source": [
    "model.save(\"different.model\")"
   ]
  },
  {
   "cell_type": "code",
   "execution_count": null,
   "metadata": {
    "id": "efwBi84ch1jE"
   },
   "outputs": [],
   "source": [
    "data_turbulence = processed[(processed.date<'2019-01-01') & (processed.date>='2009-01-01')]\n",
    "insample_turbulence = data_turbulence.drop_duplicates(subset=['date'])"
   ]
  },
  {
   "cell_type": "code",
   "execution_count": null,
   "metadata": {
    "colab": {
     "base_uri": "https://localhost:8080/"
    },
    "id": "VHZMBpSqh1jG",
    "outputId": "f750f515-9f4f-4adb-846e-ea0bdf15ea6b"
   },
   "outputs": [],
   "source": [
    "insample_turbulence.turbulence.describe()"
   ]
  },
  {
   "cell_type": "code",
   "execution_count": null,
   "metadata": {
    "id": "yuwDPkV9h1jL"
   },
   "outputs": [],
   "source": [
    "turbulence_threshold = np.quantile(insample_turbulence.turbulence.values,1)"
   ]
  },
  {
   "cell_type": "code",
   "execution_count": null,
   "metadata": {
    "colab": {
     "base_uri": "https://localhost:8080/"
    },
    "id": "wwoz_7VSh1jO",
    "outputId": "37894e93-d22e-4e3f-f23a-d3ca08bf8342"
   },
   "outputs": [],
   "source": [
    "turbulence_threshold"
   ]
  },
  {
   "cell_type": "markdown",
   "metadata": {
    "id": "U5mmgQF_h1jQ"
   },
   "source": [
    "### Trade\n",
    "\n",
    "DRL model needs to update periodically in order to take full advantage of the data, ideally we need to retrain our model yearly, quarterly, or monthly. We also need to tune the parameters along the way, in this notebook I only use the in-sample data from 2009-01 to 2018-12 to tune the parameters once, so there is some alpha decay here as the length of trade date extends. \n",
    "\n",
    "Numerous hyperparameters – e.g. the learning rate, the total number of samples to train on – influence the learning process and are usually determined by testing some variations."
   ]
  },
  {
   "cell_type": "code",
   "execution_count": null,
   "metadata": {
    "id": "wsz7d5cP-wp4",
    "outputId": "60a68cba-0904-4710-ce61-83b4f8867154"
   },
   "outputs": [],
   "source": [
    "trade.head()"
   ]
  },
  {
   "cell_type": "code",
   "execution_count": null,
   "metadata": {
    "id": "eLOnL5eYh1jR"
   },
   "outputs": [],
   "source": [
    "\n",
    "e_trade_gym.hmax = 2500\n",
    "\n",
    "\n",
    "\n"
   ]
  },
  {
   "cell_type": "code",
   "execution_count": null,
   "metadata": {
    "id": "UynXV1tk-wp4",
    "outputId": "777b700b-fd26-4ee3-9aec-b42f4c5d421e"
   },
   "outputs": [],
   "source": [
    "print(len(e_trade_gym.dates))"
   ]
  },
  {
   "cell_type": "code",
   "execution_count": null,
   "metadata": {
    "id": "Uy1J617U-wp5",
    "outputId": "cc77e270-8f3e-4519-f337-7afa416c6bec"
   },
   "outputs": [],
   "source": [
    "df_account_value, df_actions = DRLAgent.DRL_prediction(model=model,environment = e_trade_gym)"
   ]
  },
  {
   "cell_type": "code",
   "execution_count": null,
   "metadata": {
    "colab": {
     "base_uri": "https://localhost:8080/"
    },
    "id": "ERxw3KqLkcP4",
    "outputId": "cbb465c9-38dc-4d88-e79a-6ae29025164b"
   },
   "outputs": [],
   "source": [
    "df_account_value.shape"
   ]
  },
  {
   "cell_type": "code",
   "execution_count": null,
   "metadata": {
    "colab": {
     "base_uri": "https://localhost:8080/",
     "height": 194
    },
    "id": "2yRkNguY5yvp",
    "outputId": "53ec139f-88e7-4291-cf11-8e6766184265"
   },
   "outputs": [],
   "source": [
    "df_account_value.head(50)"
   ]
  },
  {
   "cell_type": "markdown",
   "metadata": {
    "id": "W6vvNSC6h1jZ"
   },
   "source": [
    "<a id='6'></a>\n",
    "# Part 7: Backtest Our Strategy\n",
    "Backtesting plays a key role in evaluating the performance of a trading strategy. Automated backtesting tool is preferred because it reduces the human error. We usually use the Quantopian pyfolio package to backtest our trading strategies. It is easy to use and consists of various individual plots that provide a comprehensive image of the performance of a trading strategy."
   ]
  },
  {
   "cell_type": "markdown",
   "metadata": {
    "id": "Lr2zX7ZxNyFQ"
   },
   "source": [
    "<a id='6.1'></a>\n",
    "## 7.1 BackTestStats\n",
    "pass in df_account_value, this information is stored in env class\n"
   ]
  },
  {
   "cell_type": "code",
   "execution_count": null,
   "metadata": {
    "colab": {
     "base_uri": "https://localhost:8080/"
    },
    "id": "Nzkr9yv-AdV_",
    "outputId": "1053083a-d74c-48b0-a623-de33282e2fff"
   },
   "outputs": [],
   "source": [
    "print(\"==============Get Backtest Results===========\")\n",
    "perf_stats_all = backtest_stats(account_value=df_account_value, value_col_name = 'total_assets')"
   ]
  },
  {
   "cell_type": "markdown",
   "metadata": {
    "id": "9U6Suru3h1jc"
   },
   "source": [
    "<a id='6.2'></a>\n",
    "## 7.2 BackTestPlot"
   ]
  },
  {
   "cell_type": "code",
   "execution_count": null,
   "metadata": {
    "colab": {
     "base_uri": "https://localhost:8080/",
     "height": 1000
    },
    "id": "lKRGftSS7pNM",
    "outputId": "4f77cef2-3934-444a-cacc-4ed8f94514ae"
   },
   "outputs": [],
   "source": [
    "print(\"==============Compare to DJIA===========\")\n",
    "%matplotlib inline\n",
    "# S&P 500: ^GSPC\n",
    "# Dow Jones Index: ^DJI\n",
    "# NASDAQ 100: ^NDX\n",
    "backtest_plot(df_account_value, \n",
    "             baseline_ticker = '^DJI', \n",
    "             baseline_start = '2019-01-01',\n",
    "             baseline_end = '2021-01-01', value_col_name = 'total_assets')"
   ]
  },
  {
   "cell_type": "code",
   "execution_count": null,
   "metadata": {
    "id": "btv3b3q1-wp6"
   },
   "outputs": [],
   "source": [
    "conda info --envs"
   ]
  },
  {
   "cell_type": "code",
   "execution_count": null,
   "metadata": {},
   "outputs": [],
   "source": [
    "import tensorflow as tf\n",
    "print(tf.__version__)"
   ]
  },
  {
   "cell_type": "code",
   "execution_count": null,
   "metadata": {},
   "outputs": [],
   "source": [
    "pip install tensorflow-gpu==2.5.0"
   ]
  },
  {
   "cell_type": "code",
   "execution_count": null,
   "metadata": {},
   "outputs": [],
   "source": [
    "import pytorch as torch\n",
    "torch.cuda.is_available()"
   ]
  },
  {
   "cell_type": "code",
   "execution_count": null,
   "metadata": {},
   "outputs": [],
   "source": [
    "import tensorflow as tf\n",
    "tf.test.is_gpu_available()"
   ]
  },
  {
   "cell_type": "code",
   "execution_count": null,
   "metadata": {},
   "outputs": [],
   "source": [
    "tf.test.is_gpu_available()"
   ]
  },
  {
   "cell_type": "code",
   "execution_count": null,
   "metadata": {},
   "outputs": [],
   "source": []
  }
 ],
 "metadata": {
  "colab": {
   "collapsed_sections": [
    "uijiWgkuh1jB"
   ],
   "name": "tutorial_this_works_1_18.ipynb",
   "provenance": [],
   "toc_visible": true
  },
  "kernelspec": {
   "display_name": "Python 3 (ipykernel)",
   "language": "python",
   "name": "python3"
  },
  "language_info": {
   "codemirror_mode": {
    "name": "ipython",
    "version": 3
   },
   "file_extension": ".py",
   "mimetype": "text/x-python",
   "name": "python",
   "nbconvert_exporter": "python",
   "pygments_lexer": "ipython3",
   "version": "3.8.10"
  },
  "pycharm": {
   "stem_cell": {
    "cell_type": "raw",
    "metadata": {
     "collapsed": false
    },
    "source": []
   }
  }
 },
 "nbformat": 4,
 "nbformat_minor": 1
}
